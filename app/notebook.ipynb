{
 "cells": [
  {
   "cell_type": "code",
   "execution_count": null,
   "metadata": {},
   "outputs": [],
   "source": [
    "import requests\n",
    "import csv\n",
    "\n",
    "with open('champions.csv', mode='a', newline='') as file:\n",
    "    writer = csv.writer(file)\n",
    "    writer.writerow(['set', 'name', 'cost', \"gender\", 'range', 'traits', 'icon'])\n",
    "    for setNum in [1, 2, 3, 3.5, 4, 4.5, 5, 5.5, 6, 6.5, 7, 7.5, 8, 8.5, 9, 9.5, 10, 11, 12, 13, 14]:\n",
    "        url = f'https://tft.dakgg.io/api/v1/data/champions?hl=en&season=set{setNum}'\n",
    "        response = requests.get(url)\n",
    "        data = response.json()['champions']\n",
    "        \n",
    "        for champion in data:\n",
    "            if champion['cost'][0] == 0 or champion['key'].startswith(\"Set3\") or champion['key'].startswith(\"Set4\") or champion['key'].startswith(\"Set5\"):\n",
    "                continue\n",
    "            else:\n",
    "                t_list = []\n",
    "                for trait in champion['traits']:\n",
    "                    if trait.upper() == trait:\n",
    "                        t_list.append(trait)\n",
    "                    else:\n",
    "                        t = trait[0]\n",
    "                        for c in trait[1:]:\n",
    "                            if c.isupper():\n",
    "                                t += \" \"\n",
    "                            t += c\n",
    "                        t_list.append(t)\n",
    "                n = champion['key'][0]\n",
    "                for c in champion['key'][1:]:\n",
    "                    if c.isupper():\n",
    "                        n += \" \"\n",
    "                    n += c\n",
    "\n",
    "                writer.writerow([setNum, n, champion['cost'][0], 0, champion['attackRange'], t_list, champion['imageUrl']])\n"
   ]
  }
 ],
 "metadata": {
  "kernelspec": {
   "display_name": "Python 3",
   "language": "python",
   "name": "python3"
  },
  "language_info": {
   "codemirror_mode": {
    "name": "ipython",
    "version": 3
   },
   "file_extension": ".py",
   "mimetype": "text/x-python",
   "name": "python",
   "nbconvert_exporter": "python",
   "pygments_lexer": "ipython3",
   "version": "3.13.0"
  }
 },
 "nbformat": 4,
 "nbformat_minor": 2
}
